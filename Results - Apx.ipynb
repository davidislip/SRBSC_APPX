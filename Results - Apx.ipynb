{
 "cells": [
  {
   "cell_type": "markdown",
   "metadata": {
    "id": "UFwIs9MvTnwI"
   },
   "source": [
    "# Stochastic Red Blue Set Covering \n",
    "\n",
    "Experiments for Approximation Algorithms "
   ]
  },
  {
   "cell_type": "code",
   "execution_count": 68,
   "metadata": {
    "id": "l3fEvFDq6PgZ",
    "ExecuteTime": {
     "end_time": "2024-12-13T05:31:42.289336300Z",
     "start_time": "2024-12-13T05:31:42.252723300Z"
    }
   },
   "outputs": [
    {
     "name": "stdout",
     "output_type": "stream",
     "text": [
      "The autoreload extension is already loaded. To reload it, use:\n",
      "  %reload_ext autoreload\n"
     ]
    }
   ],
   "source": [
    "import gurobipy as gp\n",
    "import pandas as pd\n",
    "import numpy as np\n",
    "from gurobipy import GRB\n",
    "from itertools import product\n",
    "import math, sys, time\n",
    "from netgraph import Graph, InteractiveGraph, EditableGraph\n",
    "import matplotlib.pyplot as plt\n",
    "import multiprocessing\n",
    "import networkx as nx\n",
    "import random\n",
    "import pickle as pkl\n",
    "\n",
    "%load_ext autoreload\n",
    "%autoreload 2\n",
    "%matplotlib inline"
   ]
  },
  {
   "cell_type": "code",
   "execution_count": 69,
   "metadata": {
    "id": "knc5ipCyNDrK",
    "ExecuteTime": {
     "end_time": "2024-12-13T05:31:42.584159100Z",
     "start_time": "2024-12-13T05:31:42.540676100Z"
    }
   },
   "outputs": [
    {
     "name": "stdout",
     "output_type": "stream",
     "text": [
      "Set parameter Username\n",
      "Set parameter LogFile to value \"gurobi.log\"\n",
      "Academic license - for non-commercial use only - expires 2025-02-13\n"
     ]
    }
   ],
   "source": [
    "\n",
    "#web license try to access it via uoft\n",
    "e = gp.Env(\"gurobi.log\")"
   ]
  },
  {
   "cell_type": "code",
   "execution_count": 70,
   "metadata": {
    "id": "d9SSWnjsckQ6",
    "executionInfo": {
     "status": "ok",
     "timestamp": 1676050866851,
     "user_tz": 300,
     "elapsed": 3406,
     "user": {
      "displayName": "Ryan Islip",
      "userId": "09447671168486293026"
     }
    },
    "ExecuteTime": {
     "end_time": "2024-12-13T05:31:42.818128500Z",
     "start_time": "2024-12-13T05:31:42.779218500Z"
    }
   },
   "outputs": [],
   "source": [
    "from rbsc import *"
   ]
  },
  {
   "cell_type": "code",
   "execution_count": 71,
   "metadata": {
    "id": "7V3S-CyBeW7E",
    "executionInfo": {
     "status": "ok",
     "timestamp": 1676050869157,
     "user_tz": 300,
     "elapsed": 835,
     "user": {
      "displayName": "Ryan Islip",
      "userId": "09447671168486293026"
     }
    },
    "ExecuteTime": {
     "end_time": "2024-12-13T05:31:43.334011300Z",
     "start_time": "2024-12-13T05:31:43.288302600Z"
    }
   },
   "outputs": [],
   "source": [
    "def defineinstance(N,n_elem, Scenarios, maxBlueProb, TransmissionProb, CoverFactor, N_nodes, lambd, Plot = False):\n",
    "  Sets = {}\n",
    "  n=np.arange(n_elem)+1\n",
    "  # Adapated from https://stackoverflow.com/questions/71024509/create-different-disconnected-graphs-from-a-set-of-fixed-nodes-in-networkx\n",
    "  #randomly permuting nodes\n",
    "  Elements=np.random.permutation(n)\n",
    "\n",
    "  N_graphs= round(math.sqrt(n_elem)/2)\n",
    "  #assign the random modes to each graph\n",
    "  random_graphs_nodes=[Elements[N_nodes*i:N_nodes*(i+1)] for i in range(N_graphs)]\n",
    "\n",
    "  #create random graphs\n",
    "  r_g=[nx.erdos_renyi_graph(n=N_nodes,p=0.5) for _ in range(N_graphs)]\n",
    "\n",
    "  #relabel the nodes in each graph according to random_graphs_nodes\n",
    "  mappings=[]\n",
    "  for i in range(N_graphs):\n",
    "    mappings.append({j:random_graphs_nodes[i][j] for j in range(N_nodes)})\n",
    "    r_g[i]=nx.relabel_nodes(r_g[i], mappings[i]) \n",
    "\n",
    "  if Plot:\n",
    "    #plot result\n",
    "    fig=plt.figure(figsize=(15,6))\n",
    "    for i in range(N_graphs):\n",
    "      plt.subplot(1,N_graphs,i+1)\n",
    "      plt.xlabel('Graph '+str(i+1))\n",
    "      plt.tight_layout()\n",
    "      # nx.draw(r_g[i],pos=pos,with_labels=True,node_color=colors[i])\n",
    "      g = Graph(r_g[i],node_labels=True, node_layout = 'spring',\n",
    "          node_label_fontdict=dict(size=10), node_label_offset=0.05, node_size=3, edge_width=0.4)\n",
    "      plt.savefig(\"UncertaintyGraph.svg\")\n",
    "  NodeProbability = {e:np.random.random()*maxBlueProb for e in Elements}\n",
    "  RedScenarios = {}\n",
    "  BlueScenarios = {}\n",
    "  for xi in range(Scenarios):\n",
    "    Blues_xi = {}\n",
    "    Reds_xi = {}\n",
    "    for e in Elements:\n",
    "      if np.random.random() <= NodeProbability[e]:\n",
    "        Blues_xi[e] = 'B'\n",
    "    if Blues_xi == {}:\n",
    "      Blues_xi[e] = 'B'\n",
    "    InitialBlues= list(Blues_xi.keys())\n",
    "    for b in InitialBlues:\n",
    "      for i in range(N_graphs):\n",
    "        if b in r_g[i].nodes():\n",
    "          #propagate the fraud\n",
    "          infectedByb = []\n",
    "          propagate(r_g[i],b,infectedByb, TransmissionProb)\n",
    "          for infected in infectedByb:\n",
    "            Blues_xi[infected] = 'B'\n",
    "    Reds_xi = {e:'R' for e in Elements if e not in Blues_xi.keys()}\n",
    "    BlueScenarios[xi] = Blues_xi\n",
    "    RedScenarios[xi] = Reds_xi\n",
    "\n",
    "    for xi in BlueScenarios.keys():#test \n",
    "      if set(BlueScenarios[xi]).union(set(RedScenarios[xi])) != set(Elements):\n",
    "        print(\"Something is wrong\")\n",
    "\n",
    "  #form the extensive problem \n",
    "  ExtensiveBlues = {(b, xi):'B' for xi in BlueScenarios.keys() for b in BlueScenarios[xi].keys()}\n",
    "  #blues are all combinations of xi and blue elements \n",
    "  #reds are all combinations of xi and red elements + one red for each x, blue pair with weight lambda \n",
    "  #sets are the given sets plus the super sets for each xi, blue element pair\n",
    "  ExtensiveReds = {(r, xi): 'R' for xi in RedScenarios.keys() for r in RedScenarios[xi].keys()}\n",
    "  ExtensiveRedsWeights = {(r, xi): 1/Scenarios for xi in RedScenarios.keys() for r in RedScenarios[xi].keys()}\n",
    "\n",
    "  BlueMapping = {}\n",
    "  LastElement = max(Elements)\n",
    "  k = 1\n",
    "  for (b, xi) in ExtensiveBlues.keys():\n",
    "    BlueMapping[(b, xi)] = (LastElement + k, xi)\n",
    "    ExtensiveReds[(LastElement + k, xi)] = 'Super'\n",
    "    ExtensiveRedsWeights[(LastElement + k, xi)] = lambd/Scenarios\n",
    "    k = k + 1\n",
    "\n",
    "  #form first stage sets that cover elements that are ever blue\n",
    "  k = 0\n",
    "  EverBlues = set(b for (b,xi) in ExtensiveBlues.keys())\n",
    "  UncoveredBlues = [b for b in EverBlues]\n",
    "  #randomly sample until all the blues are covered \n",
    "  while (k < N or UncoveredBlues != []):\n",
    "    n_k = random.sample(range(1,(1+len(Elements))//CoverFactor),1)[0]\n",
    "    DoesNotCoverAnyBlue = True\n",
    "    while DoesNotCoverAnyBlue:\n",
    "      SetCandidate = random.sample(list(Elements), n_k)\n",
    "      BlueCoveredBool = [b in SetCandidate for b in EverBlues]\n",
    "      if True in BlueCoveredBool:\n",
    "        DoesNotCoverAnyBlue = False\n",
    "    if UncoveredBlues == []:\n",
    "      ind = 'Set' + str(k)\n",
    "      Sets[ind] = SetCandidate\n",
    "      k = k+1\n",
    "\n",
    "    CoversNewBlue = False\n",
    "    for element in EverBlues:\n",
    "      if element in SetCandidate and element in UncoveredBlues:\n",
    "        UncoveredBlues.remove(element)\n",
    "        CoversNewBlue = True\n",
    "    if CoversNewBlue:\n",
    "      ind = 'Set' + str(k)\n",
    "      Sets[ind] = SetCandidate\n",
    "      k = k+1\n",
    "  #element scenario pairs \n",
    "  ExtensiveFormElements = set(product(Elements, range(Scenarios)))\n",
    "\n",
    "  ScenarioFormSets = {}\n",
    "\n",
    "  #appending the base elements for each scenario\n",
    "  for S in Sets.keys():\n",
    "    ScenarioFormSets[S] = set()\n",
    "    for e, xi in ExtensiveFormElements:\n",
    "      probability_swap = 0.1\n",
    "      if e in Sets[S] and probability_swap <= np.random.random():\n",
    "        ScenarioFormSets[S].add((e,xi))\n",
    "      else:\n",
    "        RandomSet = random.choice(list(Sets.keys())) #pick new set\n",
    "        try:\n",
    "          ScenarioFormSets[RandomSet].add((e,xi))\n",
    "        except:\n",
    "          ScenarioFormSets[RandomSet] = []\n",
    "\n",
    "  #appending the super sets\n",
    "  SuperLookup = {}\n",
    "  bLookup = {}\n",
    "  k = 0\n",
    "  for (b, xi) in ExtensiveBlues:\n",
    "    (r, xi2) = BlueMapping[(b,xi)]\n",
    "    ScenarioFormSets['Super'+str(k)] = [(b, xi), (r, xi)]\n",
    "    RedScenarios[xi][r] = 'R' #include the new red elements here\n",
    "    SuperLookup[(b, xi)] =  'Super'+str(k)\n",
    "    bLookup[('Super'+str(k), xi)] = b\n",
    "    k += 1\n",
    "\n",
    "  SetsIndexedbyScenario = {}\n",
    "  for xi in range(Scenarios):\n",
    "    SetsinScenario = {}\n",
    "    for S in ScenarioFormSets.keys():\n",
    "      Temp = []\n",
    "      for pair in ScenarioFormSets[S]:\n",
    "        if pair[1] == xi: \n",
    "          Temp.append(pair[0])\n",
    "      if Temp != []:\n",
    "        SetsinScenario[S] = Temp\n",
    "    SetsIndexedbyScenario[xi] = SetsinScenario\n",
    "  SetsinScenario\n",
    "\n",
    "  #getting the weights indexed by scenario\n",
    "  WeightsIndexedbyScenario = {}\n",
    "  for xi in range(Scenarios):\n",
    "    WeightsinScenario = {}\n",
    "    for (r, xi_2), wgt in ExtensiveRedsWeights.items():\n",
    "      if xi_2 == xi:\n",
    "        WeightsinScenario[r] = wgt\n",
    "    WeightsIndexedbyScenario[xi] = WeightsinScenario\n",
    "    \n",
    "  return Sets, ExtensiveReds, ExtensiveBlues, ScenarioFormSets, ExtensiveRedsWeights, SetsIndexedbyScenario, RedScenarios, BlueScenarios, WeightsIndexedbyScenario, SuperLookup, bLookup, BlueMapping"
   ]
  },
  {
   "cell_type": "markdown",
   "metadata": {
    "id": "eqqghXS9AtIF"
   },
   "source": [
    "## Experiments"
   ]
  },
  {
   "cell_type": "code",
   "execution_count": 73,
   "metadata": {
    "id": "8FPYjsmXWHtg",
    "executionInfo": {
     "status": "ok",
     "timestamp": 1676050962572,
     "user_tz": 300,
     "elapsed": 146,
     "user": {
      "displayName": "Ryan Islip",
      "userId": "09447671168486293026"
     }
    },
    "ExecuteTime": {
     "end_time": "2024-12-13T05:34:01.662664900Z",
     "start_time": "2024-12-13T05:34:01.625170300Z"
    }
   },
   "outputs": [],
   "source": [
    "#Results = {}\n",
    "n_elem = 10 #number of elements \n",
    "maxBlueProb = 0.1 #\n",
    "TransmissionProb = 0.9\n",
    "mipgaptol = 0.05\n",
    "global LIMIT #time limit\n",
    "LIMIT = 2*60*60\n",
    "CoverFactor = 1\n",
    "N_nodes=4\n",
    "output = False\n",
    "random.seed(10)\n",
    "\n",
    "M = 30 #replications \n",
    "\n",
    "#trial = 0\n",
    "\n",
    "AverageNumberofReds = {}\n",
    "\n",
    "set_sizes = [3, 5, 10, 15, 20]\n",
    "\n",
    "scenario_sizes = [5, 10, 20, 40]*M #for the replications\n",
    "\n",
    "multiplier = 2"
   ]
  },
  {
   "cell_type": "code",
   "execution_count": 74,
   "metadata": {
    "id": "zHeDgSp-p3WN",
    "ExecuteTime": {
     "end_time": "2024-12-13T05:34:05.939802500Z",
     "start_time": "2024-12-13T05:34:04.611733100Z"
    }
   },
   "outputs": [
    {
     "name": "stdout",
     "output_type": "stream",
     "text": [
      "Trial #  0\n",
      "average # of reds 3.533333333333333\n",
      "Trial #  1\n",
      "average # of reds 5.933333333333334\n",
      "Trial #  2\n",
      "average # of reds 6.083333333333333\n",
      "Trial #  3\n",
      "average # of reds 3.7333333333333334\n",
      "Trial #  4\n",
      "average # of reds 3.6666666666666665\n",
      "Trial #  5\n",
      "average # of reds 3.6\n",
      "Trial #  6\n",
      "average # of reds 3.6125\n",
      "Trial #  7\n",
      "average # of reds 5.716666666666667\n",
      "Trial #  8\n",
      "average # of reds 4.6\n",
      "Trial #  9\n",
      "average # of reds 4.3\n",
      "Trial #  10\n",
      "average # of reds 5.583333333333333\n",
      "Trial #  11\n",
      "average # of reds 3.815\n",
      "Trial #  12\n",
      "average # of reds 7.066666666666666\n",
      "Trial #  13\n",
      "average # of reds 3.533333333333333\n",
      "Trial #  14\n",
      "average # of reds 3.9\n",
      "Trial #  15\n",
      "average # of reds 6.833333333333333\n",
      "Trial #  16\n",
      "average # of reds 7.133333333333334\n",
      "Trial #  17\n",
      "average # of reds 5.433333333333334\n",
      "Trial #  18\n",
      "average # of reds 6.683333333333334\n",
      "Trial #  19\n",
      "average # of reds 7.125\n",
      "Trial #  20\n",
      "average # of reds 4.0\n",
      "Trial #  21\n",
      "average # of reds 4.4\n",
      "Trial #  22\n",
      "average # of reds 3.7333333333333334\n",
      "Trial #  23\n",
      "average # of reds 5.158333333333333\n",
      "Trial #  24\n",
      "average # of reds 4.6\n",
      "Trial #  25\n",
      "average # of reds 4.966666666666667\n",
      "Trial #  26\n",
      "average # of reds 4.35\n",
      "Trial #  27\n",
      "average # of reds 3.23\n",
      "Trial #  28\n",
      "average # of reds 2.84\n",
      "Trial #  29\n",
      "average # of reds 6.2\n",
      "Trial #  30\n",
      "average # of reds 5.2\n",
      "Trial #  31\n",
      "average # of reds 4.2625\n",
      "Trial #  32\n",
      "average # of reds 7.066666666666666\n",
      "Trial #  33\n",
      "average # of reds 5.666666666666667\n",
      "Trial #  34\n",
      "average # of reds 5.45\n",
      "Trial #  35\n",
      "average # of reds 7.425\n",
      "Trial #  36\n",
      "average # of reds 5.333333333333333\n",
      "Trial #  37\n",
      "average # of reds 5.766666666666667\n",
      "Trial #  38\n",
      "average # of reds 5.666666666666667\n",
      "Trial #  39\n",
      "average # of reds 4.6\n",
      "Trial #  40\n",
      "average # of reds 5.6\n",
      "Trial #  41\n",
      "average # of reds 3.675\n",
      "Trial #  42\n",
      "average # of reds 5.833333333333333\n",
      "Trial #  43\n",
      "average # of reds 7.075\n",
      "Trial #  44\n",
      "average # of reds 3.7333333333333334\n",
      "Trial #  45\n",
      "average # of reds 2.7666666666666666\n",
      "Trial #  46\n",
      "average # of reds 4.15\n",
      "Trial #  47\n",
      "average # of reds 4.6625\n",
      "Trial #  48\n",
      "average # of reds 4.35\n",
      "Trial #  49\n",
      "average # of reds 4.625\n",
      "Trial #  50\n",
      "average # of reds 5.45\n",
      "Trial #  51\n",
      "average # of reds 3.691666666666667\n",
      "Trial #  52\n",
      "average # of reds 6.533333333333333\n",
      "Trial #  53\n",
      "average # of reds 2.6\n",
      "Trial #  54\n",
      "average # of reds 5.633333333333334\n",
      "Trial #  55\n",
      "average # of reds 3.783333333333333\n",
      "Trial #  56\n",
      "average # of reds 4.6\n",
      "Trial #  57\n",
      "average # of reds 5.5\n",
      "Trial #  58\n",
      "average # of reds 4.566666666666666\n",
      "Trial #  59\n",
      "average # of reds 4.25\n",
      "Trial #  60\n",
      "average # of reds 5.8\n",
      "Trial #  61\n",
      "average # of reds 4.04\n",
      "Trial #  62\n",
      "average # of reds 4.25\n",
      "Trial #  63\n",
      "average # of reds 4.495\n",
      "Trial #  64\n",
      "average # of reds 5.32\n",
      "Trial #  65\n",
      "average # of reds 5.4\n",
      "Trial #  66\n",
      "average # of reds 4.69\n",
      "Trial #  67\n",
      "average # of reds 5.71\n",
      "Trial #  68\n",
      "average # of reds 6.96\n",
      "Trial #  69\n",
      "average # of reds 4.38\n",
      "Trial #  70\n",
      "average # of reds 4.66\n",
      "Trial #  71\n",
      "average # of reds 4.015\n",
      "Trial #  72\n",
      "average # of reds 3.4\n",
      "Trial #  73\n",
      "average # of reds 5.76\n",
      "Trial #  74\n",
      "average # of reds 3.9833333333333334\n",
      "Trial #  75\n",
      "average # of reds 4.365\n",
      "Trial #  76\n",
      "average # of reds 4.08\n",
      "Trial #  77\n",
      "average # of reds 5.4\n",
      "Trial #  78\n",
      "average # of reds 5.29\n",
      "Trial #  79\n",
      "average # of reds 3.17\n",
      "Trial #  80\n",
      "average # of reds 3.2\n",
      "Trial #  81\n",
      "average # of reds 6.24\n",
      "Trial #  82\n",
      "average # of reds 4.46\n",
      "Trial #  83\n",
      "average # of reds 4.405\n",
      "Trial #  84\n",
      "average # of reds 5.16\n",
      "Trial #  85\n",
      "average # of reds 2.9\n",
      "Trial #  86\n",
      "average # of reds 6.12\n",
      "Trial #  87\n",
      "average # of reds 5.365\n",
      "Trial #  88\n",
      "average # of reds 6.4\n",
      "Trial #  89\n",
      "average # of reds 3.1\n",
      "Trial #  90\n",
      "average # of reds 4.61\n",
      "Trial #  91\n",
      "average # of reds 4.685\n",
      "Trial #  92\n",
      "average # of reds 3.96\n",
      "Trial #  93\n",
      "average # of reds 3.66\n",
      "Trial #  94\n",
      "average # of reds 4.12\n",
      "Trial #  95\n",
      "average # of reds 4.275\n",
      "Trial #  96\n",
      "average # of reds 5.24\n",
      "Trial #  97\n",
      "average # of reds 3.26\n",
      "Trial #  98\n",
      "average # of reds 4.65\n",
      "Trial #  99\n",
      "average # of reds 6.415\n",
      "Trial #  100\n",
      "average # of reds 5.56\n",
      "Trial #  101\n",
      "average # of reds 4.48\n",
      "Trial #  102\n",
      "average # of reds 4.5\n",
      "Trial #  103\n",
      "average # of reds 4.41\n",
      "Trial #  104\n",
      "average # of reds 5.48\n",
      "Trial #  105\n",
      "average # of reds 4.58\n",
      "Trial #  106\n",
      "average # of reds 4.04\n",
      "Trial #  107\n",
      "average # of reds 4.395\n",
      "Trial #  108\n",
      "average # of reds 3.8\n",
      "Trial #  109\n",
      "average # of reds 3.7\n",
      "Trial #  110\n",
      "average # of reds 5.71\n",
      "Trial #  111\n",
      "average # of reds 4.065\n",
      "Trial #  112\n",
      "average # of reds 4.4\n",
      "Trial #  113\n",
      "average # of reds 6.34\n",
      "Trial #  114\n",
      "average # of reds 6.24\n",
      "Trial #  115\n",
      "average # of reds 4.625\n",
      "Trial #  116\n",
      "average # of reds 6.0\n",
      "Trial #  117\n",
      "average # of reds 6.04\n",
      "Trial #  118\n",
      "average # of reds 3.72\n",
      "Trial #  119\n",
      "average # of reds 3.52\n",
      "Trial #  120\n",
      "average # of reds 4.0\n",
      "Trial #  121\n",
      "average # of reds 3.16\n",
      "Trial #  122\n",
      "average # of reds 6.63\n",
      "Trial #  123\n",
      "average # of reds 3.79\n",
      "Trial #  124\n",
      "average # of reds 3.9\n",
      "Trial #  125\n",
      "average # of reds 5.1\n",
      "Trial #  126\n",
      "average # of reds 4.545\n",
      "Trial #  127\n",
      "average # of reds 4.64\n",
      "Trial #  128\n",
      "average # of reds 4.36\n",
      "Trial #  129\n",
      "average # of reds 4.49\n",
      "Trial #  130\n",
      "average # of reds 5.52\n",
      "Trial #  131\n",
      "average # of reds 3.98\n",
      "Trial #  132\n",
      "average # of reds 3.74\n",
      "Trial #  133\n",
      "average # of reds 5.3\n",
      "Trial #  134\n",
      "average # of reds 3.57\n",
      "Trial #  135\n",
      "average # of reds 5.54\n",
      "Trial #  136\n",
      "average # of reds 3.52\n",
      "Trial #  137\n",
      "average # of reds 5.16\n",
      "Trial #  138\n",
      "average # of reds 3.745\n",
      "Trial #  139\n",
      "average # of reds 4.245\n",
      "Trial #  140\n",
      "average # of reds 3.4\n",
      "Trial #  141\n",
      "average # of reds 5.37\n",
      "Trial #  142\n",
      "average # of reds 4.47\n",
      "Trial #  143\n",
      "average # of reds 3.9625\n",
      "Trial #  144\n",
      "average # of reds 3.5\n",
      "Trial #  145\n",
      "average # of reds 5.03\n",
      "Trial #  146\n",
      "average # of reds 4.715\n",
      "Trial #  147\n",
      "average # of reds 4.7275\n",
      "Trial #  148\n",
      "average # of reds 3.14\n",
      "Trial #  149\n",
      "average # of reds 4.21\n",
      "Trial #  150\n",
      "average # of reds 3.34\n",
      "Trial #  151\n",
      "average # of reds 4.125\n",
      "Trial #  152\n",
      "average # of reds 4.32\n",
      "Trial #  153\n",
      "average # of reds 4.49\n",
      "Trial #  154\n",
      "average # of reds 4.095\n",
      "Trial #  155\n",
      "average # of reds 3.7\n",
      "Trial #  156\n",
      "average # of reds 3.62\n",
      "Trial #  157\n",
      "average # of reds 5.47\n",
      "Trial #  158\n",
      "average # of reds 4.355\n",
      "Trial #  159\n",
      "average # of reds 5.1775\n",
      "Trial #  160\n",
      "average # of reds 4.0\n",
      "Trial #  161\n",
      "average # of reds 4.35\n",
      "Trial #  162\n",
      "average # of reds 3.875\n",
      "Trial #  163\n",
      "average # of reds 3.1375\n",
      "Trial #  164\n",
      "average # of reds 3.16\n",
      "Trial #  165\n",
      "average # of reds 4.29\n",
      "Trial #  166\n",
      "average # of reds 5.935\n",
      "Trial #  167\n",
      "average # of reds 5.7525\n",
      "Trial #  168\n",
      "average # of reds 3.82\n",
      "Trial #  169\n",
      "average # of reds 4.61\n",
      "Trial #  170\n",
      "average # of reds 5.73\n",
      "Trial #  171\n",
      "average # of reds 3.7275\n",
      "Trial #  172\n",
      "average # of reds 4.26\n",
      "Trial #  173\n",
      "average # of reds 3.8\n",
      "Trial #  174\n",
      "average # of reds 3.825\n",
      "Trial #  175\n",
      "average # of reds 3.55\n",
      "Trial #  176\n",
      "average # of reds 3.16\n",
      "Trial #  177\n",
      "average # of reds 3.97\n",
      "Trial #  178\n",
      "average # of reds 3.63\n",
      "Trial #  179\n",
      "average # of reds 4.36\n",
      "Trial #  180\n",
      "average # of reds 4.76\n",
      "Trial #  181\n",
      "average # of reds 4.44\n",
      "Trial #  182\n",
      "average # of reds 5.613333333333333\n",
      "Trial #  183\n",
      "average # of reds 4.543333333333333\n",
      "Trial #  184\n",
      "average # of reds 5.053333333333334\n",
      "Trial #  185\n",
      "average # of reds 4.533333333333333\n",
      "Trial #  186\n",
      "average # of reds 5.623333333333333\n",
      "Trial #  187\n",
      "average # of reds 4.011666666666667\n",
      "Trial #  188\n",
      "average # of reds 3.8533333333333335\n",
      "Trial #  189\n",
      "average # of reds 4.66\n",
      "Trial #  190\n",
      "average # of reds 4.88\n",
      "Trial #  191\n",
      "average # of reds 3.2916666666666665\n",
      "Trial #  192\n",
      "average # of reds 3.9466666666666668\n",
      "Trial #  193\n",
      "average # of reds 4.753333333333333\n",
      "Trial #  194\n",
      "average # of reds 4.1\n",
      "Trial #  195\n",
      "average # of reds 3.8733333333333335\n",
      "Trial #  196\n",
      "average # of reds 4.0\n",
      "Trial #  197\n",
      "average # of reds 4.326666666666667\n",
      "Trial #  198\n",
      "average # of reds 4.56\n",
      "Trial #  199\n",
      "average # of reds 5.903333333333333\n",
      "Trial #  200\n",
      "average # of reds 3.7333333333333334\n",
      "Trial #  201\n",
      "average # of reds 4.8533333333333335\n",
      "Trial #  202\n",
      "average # of reds 5.36\n",
      "Trial #  203\n",
      "average # of reds 4.495\n",
      "Trial #  204\n",
      "average # of reds 3.28\n",
      "Trial #  205\n",
      "average # of reds 4.226666666666667\n",
      "Trial #  206\n",
      "average # of reds 5.816666666666666\n",
      "Trial #  207\n",
      "average # of reds 4.136666666666667\n",
      "Trial #  208\n",
      "average # of reds 4.28\n",
      "Trial #  209\n",
      "average # of reds 5.086666666666667\n",
      "Trial #  210\n",
      "average # of reds 4.11\n",
      "Trial #  211\n",
      "average # of reds 4.716666666666667\n",
      "Trial #  212\n",
      "average # of reds 4.88\n",
      "Trial #  213\n",
      "average # of reds 4.433333333333334\n",
      "Trial #  214\n",
      "average # of reds 5.323333333333333\n",
      "Trial #  215\n",
      "average # of reds 5.06\n",
      "Trial #  216\n",
      "average # of reds 4.8\n",
      "Trial #  217\n",
      "average # of reds 3.9\n",
      "Trial #  218\n",
      "average # of reds 5.573333333333333\n",
      "Trial #  219\n",
      "average # of reds 4.1866666666666665\n",
      "Trial #  220\n",
      "average # of reds 5.0\n",
      "Trial #  221\n",
      "average # of reds 5.78\n",
      "Trial #  222\n",
      "average # of reds 5.25\n",
      "Trial #  223\n",
      "average # of reds 3.845\n",
      "Trial #  224\n",
      "average # of reds 4.866666666666666\n",
      "Trial #  225\n",
      "average # of reds 6.013333333333334\n",
      "Trial #  226\n",
      "average # of reds 4.786666666666667\n",
      "Trial #  227\n",
      "average # of reds 4.34\n",
      "Trial #  228\n",
      "average # of reds 5.266666666666667\n",
      "Trial #  229\n",
      "average # of reds 3.44\n",
      "Trial #  230\n",
      "average # of reds 3.9833333333333334\n",
      "Trial #  231\n",
      "average # of reds 4.861666666666666\n",
      "Trial #  232\n",
      "average # of reds 4.626666666666667\n",
      "Trial #  233\n",
      "average # of reds 4.133333333333334\n",
      "Trial #  234\n",
      "average # of reds 4.323333333333333\n",
      "Trial #  235\n",
      "average # of reds 4.081666666666667\n",
      "Trial #  236\n",
      "average # of reds 5.306666666666667\n",
      "Trial #  237\n",
      "average # of reds 5.453333333333333\n",
      "Trial #  238\n",
      "average # of reds 4.88\n",
      "Trial #  239\n",
      "average # of reds 3.796666666666667\n",
      "Trial #  240\n",
      "average # of reds 4.6\n",
      "Trial #  241\n",
      "average # of reds 4.36\n",
      "Trial #  242\n",
      "average # of reds 3.71\n",
      "Trial #  243\n",
      "average # of reds 4.925\n",
      "Trial #  244\n",
      "average # of reds 4.64\n",
      "Trial #  245\n",
      "average # of reds 4.805\n",
      "Trial #  246\n",
      "average # of reds 4.445\n",
      "Trial #  247\n",
      "average # of reds 5.88625\n",
      "Trial #  248\n",
      "average # of reds 4.0\n",
      "Trial #  249\n",
      "average # of reds 5.06\n",
      "Trial #  250\n",
      "average # of reds 4.565\n",
      "Trial #  251\n",
      "average # of reds 4.92375\n",
      "Trial #  252\n",
      "average # of reds 5.75\n",
      "Trial #  253\n",
      "average # of reds 5.205\n",
      "Trial #  254\n",
      "average # of reds 4.5575\n",
      "Trial #  255\n",
      "average # of reds 4.8475\n",
      "Trial #  256\n",
      "average # of reds 4.58\n",
      "Trial #  257\n",
      "average # of reds 3.98\n",
      "Trial #  258\n",
      "average # of reds 4.9325\n",
      "Trial #  259\n",
      "average # of reds 4.21375\n",
      "Trial #  260\n",
      "average # of reds 4.88\n",
      "Trial #  261\n",
      "average # of reds 4.67\n",
      "Trial #  262\n",
      "average # of reds 3.775\n",
      "Trial #  263\n",
      "average # of reds 5.0875\n",
      "Trial #  264\n",
      "average # of reds 4.6\n",
      "Trial #  265\n",
      "average # of reds 3.875\n",
      "Trial #  266\n",
      "average # of reds 4.5975\n",
      "Trial #  267\n",
      "average # of reds 4.57\n",
      "Trial #  268\n",
      "average # of reds 5.2\n",
      "Trial #  269\n",
      "average # of reds 5.965\n",
      "Trial #  270\n",
      "average # of reds 5.2875\n",
      "Trial #  271\n",
      "average # of reds 5.00125\n",
      "Trial #  272\n",
      "average # of reds 4.54\n",
      "Trial #  273\n",
      "average # of reds 3.46\n",
      "Trial #  274\n",
      "average # of reds 4.8925\n",
      "Trial #  275\n",
      "average # of reds 5.01625\n",
      "Trial #  276\n",
      "average # of reds 5.21\n",
      "Trial #  277\n",
      "average # of reds 5.01\n",
      "Trial #  278\n",
      "average # of reds 5.0075\n",
      "Trial #  279\n",
      "average # of reds 4.2775\n",
      "Trial #  280\n",
      "average # of reds 4.75\n",
      "Trial #  281\n",
      "average # of reds 3.99\n",
      "Trial #  282\n",
      "average # of reds 3.385\n",
      "Trial #  283\n",
      "average # of reds 4.32125\n",
      "Trial #  284\n",
      "average # of reds 4.95\n",
      "Trial #  285\n",
      "average # of reds 5.25\n",
      "Trial #  286\n",
      "average # of reds 3.9875\n",
      "Trial #  287\n",
      "average # of reds 4.36\n",
      "Trial #  288\n",
      "average # of reds 4.46\n",
      "Trial #  289\n",
      "average # of reds 5.36\n",
      "Trial #  290\n",
      "average # of reds 4.935\n",
      "Trial #  291\n",
      "average # of reds 4.94875\n",
      "Trial #  292\n",
      "average # of reds 4.34\n",
      "Trial #  293\n",
      "average # of reds 4.575\n",
      "Trial #  294\n",
      "average # of reds 4.2575\n",
      "Trial #  295\n",
      "average # of reds 5.4425\n",
      "Trial #  296\n",
      "average # of reds 4.42\n",
      "Trial #  297\n",
      "average # of reds 4.76\n",
      "Trial #  298\n",
      "average # of reds 4.2725\n",
      "Trial #  299\n",
      "average # of reds 4.415\n"
     ]
    }
   ],
   "source": [
    "\n",
    "\n",
    "for N, Scenarios in product(set_sizes, scenario_sizes):\n",
    "#for N, Scenarios in product([5], [10]*M + [20]*M + [30]*M + [40]*M):\n",
    "\n",
    "#for N, Scenarios in product([10, 40], [5]):\n",
    "  print(\"Trial # \", trial)\n",
    "  lambd = 25*(n_elem)/np.log(1+N) #average elements in set?\n",
    "\n",
    "  Sets = {}\n",
    "\n",
    "  #random scenario generation\n",
    "  #define each element to be a part of a \n",
    "  #graph. With edge probability p \n",
    "  #create instance \n",
    "\n",
    "  start = time.time()\n",
    "  (Sets, ExtensiveReds, ExtensiveBlues, ScenarioFormSets, \n",
    "  ExtensiveRedsWeights, SetsIndexedbyScenario, RedScenarios, \n",
    "  BlueScenarios, WeightsIndexedbyScenario, SuperLookup, \n",
    "  bLookup, BlueMapping) = defineinstance(N,n_elem, Scenarios,\n",
    "                                          maxBlueProb, TransmissionProb, \n",
    "                                          CoverFactor, N_nodes, lambd, Plot = False)\n",
    "\n",
    "  \n",
    "  AverageNumberofReds[(N, Scenarios, trial)] = get_average_number_of_reds(RedScenarios, Sets)\n",
    "\n",
    "  trial = trial + 1\n",
    "  "
   ]
  },
  {
   "cell_type": "code",
   "execution_count": 75,
   "metadata": {
    "id": "9b5kGsMG1Apx",
    "executionInfo": {
     "status": "ok",
     "timestamp": 1676050998623,
     "user_tz": 300,
     "elapsed": 14,
     "user": {
      "displayName": "Ryan Islip",
      "userId": "09447671168486293026"
     }
    },
    "ExecuteTime": {
     "end_time": "2024-12-13T05:34:11.287989800Z",
     "start_time": "2024-12-13T05:34:11.251381100Z"
    }
   },
   "outputs": [],
   "source": [
    "AverageNumberofRedsSeries = pd.Series(AverageNumberofReds)\n",
    "AverageNumberofRedsSeries.index = AverageNumberofRedsSeries.index.set_names(['NSets', 'NScenarios', 'Trial'])\n",
    "AverageNumberofRedsSeriesGrouped = AverageNumberofRedsSeries.groupby(['NSets', 'NScenarios']).mean()\n",
    "AverageNumberofRedsSeriesGrouped.to_pickle(\"data/average_reds.pkl\")"
   ]
  },
  {
   "cell_type": "code",
   "execution_count": 76,
   "metadata": {
    "id": "Obi6OjDqV-V1",
    "executionInfo": {
     "status": "ok",
     "timestamp": 1676050998624,
     "user_tz": 300,
     "elapsed": 12,
     "user": {
      "displayName": "Ryan Islip",
      "userId": "09447671168486293026"
     }
    },
    "ExecuteTime": {
     "end_time": "2024-12-13T05:34:11.900954100Z",
     "start_time": "2024-12-13T05:34:11.860750400Z"
    }
   },
   "outputs": [],
   "source": [
    "AverageNumberofRedsSeriesGrouped = pd.read_pickle(\"data/average_reds.pkl\")"
   ]
  },
  {
   "cell_type": "code",
   "execution_count": 99,
   "metadata": {
    "id": "RXAPivfgoWf4"
   },
   "outputs": [],
   "source": [
    "from IPython.display import clear_output\n",
    "\n",
    "#trial = 0\n",
    "multiplier = 2\n",
    "\n",
    "for N, Scenarios in product(set_sizes, scenario_sizes):\n",
    "#for N, Scenarios in product([5], [10]*M + [20]*M + [30]*M + [40]*M):\n",
    "  print(\"Trial # \", trial)\n",
    "#for N, Scenarios in product([10, 40], [5]):\n",
    "  lambd = multiplier*AverageNumberofRedsSeriesGrouped[(N,Scenarios)] #average elements in set\n",
    "\n",
    "  Sets = {}\n",
    "\n",
    "  #random scenario generation\n",
    "  #define each element to be a part of a \n",
    "  #graph. With edge probability p \n",
    "  #create instance \n",
    "  (Sets, ExtensiveReds, ExtensiveBlues, ScenarioFormSets, \n",
    "  ExtensiveRedsWeights, SetsIndexedbyScenario, RedScenarios, \n",
    "  BlueScenarios, WeightsIndexedbyScenario, SuperLookup, \n",
    "  bLookup, BlueMapping) = defineinstance(N,n_elem, Scenarios,\n",
    "                                          maxBlueProb, TransmissionProb, \n",
    "                                          CoverFactor, N_nodes, lambd, Plot = False)\n",
    "\n",
    "  ##exact soln alg on the original problem\n",
    "  (SelectedReds, SelectedSets, \n",
    "  SolnEdges, ObjVal, ObjBound, RunTime) = DeterministicRedBlue(ExtensiveReds, ExtensiveBlues, \n",
    "                                                                ScenarioFormSets, ExtensiveRedsWeights, \n",
    "                                                                LIMIT, output = True, testing = True, \n",
    "                                                               mipgap = mipgaptol, \n",
    "                                                               env = e)\n",
    "\n",
    "  Results[('Extensive', trial, n_elem,N,Scenarios)] = [ObjVal, ObjBound, RunTime]  #add to the results dictionary\n",
    "  \n",
    "  # peleg algorithm \n",
    "  start = time.time()\n",
    "  BestCover, MinWgt = LowDeg2(ExtensiveReds, ExtensiveBlues, ScenarioFormSets, ExtensiveRedsWeights)\n",
    "  end = time.time()\n",
    "  RedsinCandidates = ElementsinFamily(BestCover, ExtensiveReds)\n",
    "  print(\"Peleg \", NumRedsinS(RedsinCandidates, ExtensiveReds, ExtensiveRedsWeights))\n",
    "  if MinWgt > 1000:\n",
    "    print(\"Best Sets \", BestCover.keys())\n",
    "  Results[('Peleg', trial, n_elem,N,Scenarios)] = [MinWgt, 0 , end-start]   #add to the results dictionary\n",
    "\n",
    "  \n",
    "  ##approximation alg using LP on the original problem \n",
    "  # ##approximation alg using LP on the augmented problem\n",
    "  # AugScenarioFormSets, b_count, smallest_augmented_sets_containingb = FormAugmentedProblem(ExtensiveReds, ExtensiveBlues, ScenarioFormSets)\n",
    "\n",
    "  AugScenarioFormSets = FormAugmentedProblem(ExtensiveReds, ExtensiveBlues, ScenarioFormSets)\n",
    "\n",
    "  start = time.time()\n",
    "  (SelectedReds, SelectedSets, \n",
    "  SolnEdges, vals_y, vals_x) = DeterministicRedBlueAugmented(ExtensiveReds, ExtensiveBlues, \n",
    "                                                                                        AugScenarioFormSets, Relax=True, Weights=ExtensiveRedsWeights, output=True, q=None, env=e)\n",
    "  \n",
    "  SelectedReds, SelectedAugSets, SolnEdges = CarrApproximationAlgorithm(ExtensiveReds, \n",
    "                                                  ExtensiveBlues, \n",
    "                                                  AugScenarioFormSets, \n",
    "                                                  vals_y)\n",
    "  end = time.time()\n",
    "  Wgt = sum(ExtensiveRedsWeights[t] for t in SelectedReds)\n",
    "\n",
    "  print(\"Carr \", Wgt)\n",
    "  Results[('Carr', trial, n_elem, N, Scenarios)] = [Wgt, 0 , end-start] #add to results dictionary\n",
    "\n",
    "  #vals = m.getAttr('x', x)\n",
    "  trial = trial + 1\n",
    "  \n",
    "  print(\"Completed instance defined by Nelem, N, Scenarios\", (n_elem,N,Scenarios))\n",
    "  with open(\"data/appx_results_d2_2023_\"+ str(N)+\".pkl\", 'wb') as fp:\n",
    "    pkl.dump(Results, fp);\n",
    "    pd.DataFrame(Results).T.to_csv(\"results.csv\")\n",
    "    \n",
    "  clear_output(wait = False)"
   ]
  },
  {
   "cell_type": "markdown",
   "source": [
    "# Results\n",
    "\n",
    "* Import the pickle file for the results \n",
    "* Calculate the optimality gap \n",
    "* Calculate run-time statistics"
   ],
   "metadata": {
    "id": "TAk_L6a5w2v5"
   }
  },
  {
   "cell_type": "code",
   "outputs": [
    {
     "data": {
      "text/plain": "                                0      1          2\nExtensive 0   10 3  5    7.200000  7.200   0.009000\nPeleg     0   10 3  5   19.135911  0.000   0.001034\nCarr      0   10 3  5    7.200000  0.000   0.034532\nExtensive 1   10 3  10   7.400000  7.400   0.022000\nPeleg     1   10 3  10  11.595556  0.000   0.002050\n...                           ...    ...        ...\n          298 10 20 20   7.494050  0.000   0.010000\nCarr      298 10 20 20  11.364300  0.000   3.756073\nExtensive 299 10 20 40   7.275000  7.275   0.836000\nPeleg     299 10 20 40   7.378938  0.000   0.038525\nCarr      299 10 20 40  10.276300  0.000  83.863640\n\n[900 rows x 3 columns]",
      "text/html": "<div>\n<style scoped>\n    .dataframe tbody tr th:only-of-type {\n        vertical-align: middle;\n    }\n\n    .dataframe tbody tr th {\n        vertical-align: top;\n    }\n\n    .dataframe thead th {\n        text-align: right;\n    }\n</style>\n<table border=\"1\" class=\"dataframe\">\n  <thead>\n    <tr style=\"text-align: right;\">\n      <th></th>\n      <th></th>\n      <th></th>\n      <th></th>\n      <th></th>\n      <th>0</th>\n      <th>1</th>\n      <th>2</th>\n    </tr>\n  </thead>\n  <tbody>\n    <tr>\n      <th>Extensive</th>\n      <th>0</th>\n      <th>10</th>\n      <th>3</th>\n      <th>5</th>\n      <td>7.200000</td>\n      <td>7.200</td>\n      <td>0.009000</td>\n    </tr>\n    <tr>\n      <th>Peleg</th>\n      <th>0</th>\n      <th>10</th>\n      <th>3</th>\n      <th>5</th>\n      <td>19.135911</td>\n      <td>0.000</td>\n      <td>0.001034</td>\n    </tr>\n    <tr>\n      <th>Carr</th>\n      <th>0</th>\n      <th>10</th>\n      <th>3</th>\n      <th>5</th>\n      <td>7.200000</td>\n      <td>0.000</td>\n      <td>0.034532</td>\n    </tr>\n    <tr>\n      <th>Extensive</th>\n      <th>1</th>\n      <th>10</th>\n      <th>3</th>\n      <th>10</th>\n      <td>7.400000</td>\n      <td>7.400</td>\n      <td>0.022000</td>\n    </tr>\n    <tr>\n      <th rowspan=\"3\" valign=\"top\">Peleg</th>\n      <th>1</th>\n      <th>10</th>\n      <th>3</th>\n      <th>10</th>\n      <td>11.595556</td>\n      <td>0.000</td>\n      <td>0.002050</td>\n    </tr>\n    <tr>\n      <th>...</th>\n      <th>...</th>\n      <th>...</th>\n      <th>...</th>\n      <td>...</td>\n      <td>...</td>\n      <td>...</td>\n    </tr>\n    <tr>\n      <th>298</th>\n      <th>10</th>\n      <th>20</th>\n      <th>20</th>\n      <td>7.494050</td>\n      <td>0.000</td>\n      <td>0.010000</td>\n    </tr>\n    <tr>\n      <th>Carr</th>\n      <th>298</th>\n      <th>10</th>\n      <th>20</th>\n      <th>20</th>\n      <td>11.364300</td>\n      <td>0.000</td>\n      <td>3.756073</td>\n    </tr>\n    <tr>\n      <th>Extensive</th>\n      <th>299</th>\n      <th>10</th>\n      <th>20</th>\n      <th>40</th>\n      <td>7.275000</td>\n      <td>7.275</td>\n      <td>0.836000</td>\n    </tr>\n    <tr>\n      <th>Peleg</th>\n      <th>299</th>\n      <th>10</th>\n      <th>20</th>\n      <th>40</th>\n      <td>7.378938</td>\n      <td>0.000</td>\n      <td>0.038525</td>\n    </tr>\n    <tr>\n      <th>Carr</th>\n      <th>299</th>\n      <th>10</th>\n      <th>20</th>\n      <th>40</th>\n      <td>10.276300</td>\n      <td>0.000</td>\n      <td>83.863640</td>\n    </tr>\n  </tbody>\n</table>\n<p>900 rows × 3 columns</p>\n</div>"
     },
     "execution_count": 78,
     "metadata": {},
     "output_type": "execute_result"
    }
   ],
   "source": [
    "pd.DataFrame(Results).T"
   ],
   "metadata": {
    "collapsed": false,
    "ExecuteTime": {
     "end_time": "2024-12-13T15:40:28.484801Z",
     "start_time": "2024-12-13T15:40:28.419896500Z"
    }
   },
   "execution_count": 78
  },
  {
   "cell_type": "code",
   "execution_count": 100,
   "metadata": {
    "id": "ieTKQbJ9kkmU",
    "executionInfo": {
     "status": "ok",
     "timestamp": 1675902799305,
     "user_tz": 300,
     "elapsed": 198,
     "user": {
      "displayName": "Ryan Islip",
      "userId": "09447671168486293026"
     }
    },
    "ExecuteTime": {
     "end_time": "2024-12-14T21:58:16.228304700Z",
     "start_time": "2024-12-14T21:58:16.143415900Z"
    }
   },
   "outputs": [],
   "source": [
    "# with open(\"data/appx_results_final.pkl\", 'rb') as f:\n",
    "#       Results = pkl.load(f);\n",
    "\n",
    "out = pd.DataFrame(Results, index = ['Objective', 'Bound', 'Time']).transpose()\n",
    "out.index = out.index.set_names(['Type', 'Trial', 'NElem', 'NSets', 'NScenarios'])\n",
    "pd.concat([out]).to_pickle(\"data/appx_results_final.pkl\")"
   ]
  },
  {
   "cell_type": "code",
   "source": [
    "#out = pd.read_pickle(\"data/appx_results_final.pkl\")"
   ],
   "metadata": {
    "id": "zdIQfDBfmJvR",
    "executionInfo": {
     "status": "ok",
     "timestamp": 1675911845112,
     "user_tz": 300,
     "elapsed": 157,
     "user": {
      "displayName": "Ryan Islip",
      "userId": "09447671168486293026"
     }
    },
    "ExecuteTime": {
     "end_time": "2024-12-14T21:58:17.268288200Z",
     "start_time": "2024-12-14T21:58:17.225459200Z"
    }
   },
   "execution_count": 101,
   "outputs": []
  },
  {
   "cell_type": "code",
   "execution_count": 102,
   "metadata": {
    "id": "sDjXG6hcczXm",
    "ExecuteTime": {
     "end_time": "2024-12-14T21:58:17.570882Z",
     "start_time": "2024-12-14T21:58:17.521947600Z"
    }
   },
   "outputs": [
    {
     "data": {
      "text/plain": "                        Objective                      Bound                  \\\nType                         Carr Extensive      Peleg  Carr Extensive Peleg   \nNElem NSets NScenarios                                                         \n10    3     5            7.200000  7.200000  15.926756   0.0  7.133333   0.0   \n            10           7.450000  7.450000  14.253111   0.0  7.450000   0.0   \n            20           7.950000  7.925000  17.203056   0.0  7.873889   0.0   \n            40           8.050603  8.050603  17.458786   0.0  8.012500   0.0   \n      5     5            6.896800  6.700000   9.293600   0.0  6.700000   0.0   \n            10           7.400000  7.300000   8.211867   0.0  7.200000   0.0   \n            20           7.670867  7.675000  15.392722   0.0  7.584056   0.0   \n            40           7.783300  7.783300  16.525983   0.0  7.505533   0.0   \n      10    5            6.790667  5.700000   7.000000   0.0  5.561333   0.0   \n            10           6.700000  6.600000   7.258667   0.0  6.425333   0.0   \n            20           7.375000  7.051600   7.828200   0.0  6.853200   0.0   \n            40           8.591225  7.487500   7.971367   0.0  7.212500   0.0   \n      15    5            7.004089  5.100000   5.900000   0.0  5.000000   0.0   \n            10           7.700000  6.466889   7.200000   0.0  6.250000   0.0   \n            20           8.491833  6.944556   7.441833   0.0  6.748639   0.0   \n            40          10.383944  7.375000   7.881794   0.0  7.148222   0.0   \n      20    5            6.545600  4.600000   5.500000   0.0  4.433600   0.0   \n            10           7.487667  6.050000   6.700000   0.0  5.950000   0.0   \n            20           9.188100  6.725000   7.316075   0.0  6.508037   0.0   \n            40          10.171694  7.248681   7.712500   0.0  7.200000   0.0   \n\n                              Time                      \nType                          Carr Extensive     Peleg  \nNElem NSets NScenarios                                  \n10    3     5             0.034532    0.0130  0.001008  \n            10            0.206850    0.0150  0.002005  \n            20            2.376813    0.0125  0.004717  \n            40           26.099716    0.0150  0.015196  \n      5     5             0.055042    0.0160  0.001000  \n            10            0.280785    0.0210  0.002034  \n            20            3.326906    0.0230  0.007471  \n            40           43.575071    0.0250  0.030518  \n      10    5             0.079244    0.0325  0.001002  \n            10            0.484657    0.0370  0.002503  \n            20            5.236489    0.0605  0.010521  \n            40           88.485649    0.0890  0.042356  \n      15    5             0.097976    0.0450  0.002000  \n            10            0.633476    0.0780  0.004006  \n            20            9.989918    0.1520  0.015558  \n            40          124.778257    0.3385  0.039627  \n      20    5             0.120192    0.0440  0.002001  \n            10            0.976068    0.1085  0.004499  \n            20           12.405256    0.2330  0.017272  \n            40          164.330716    0.8510  0.053504  ",
      "text/html": "<div>\n<style scoped>\n    .dataframe tbody tr th:only-of-type {\n        vertical-align: middle;\n    }\n\n    .dataframe tbody tr th {\n        vertical-align: top;\n    }\n\n    .dataframe thead tr th {\n        text-align: left;\n    }\n\n    .dataframe thead tr:last-of-type th {\n        text-align: right;\n    }\n</style>\n<table border=\"1\" class=\"dataframe\">\n  <thead>\n    <tr>\n      <th></th>\n      <th></th>\n      <th></th>\n      <th colspan=\"3\" halign=\"left\">Objective</th>\n      <th colspan=\"3\" halign=\"left\">Bound</th>\n      <th colspan=\"3\" halign=\"left\">Time</th>\n    </tr>\n    <tr>\n      <th></th>\n      <th></th>\n      <th>Type</th>\n      <th>Carr</th>\n      <th>Extensive</th>\n      <th>Peleg</th>\n      <th>Carr</th>\n      <th>Extensive</th>\n      <th>Peleg</th>\n      <th>Carr</th>\n      <th>Extensive</th>\n      <th>Peleg</th>\n    </tr>\n    <tr>\n      <th>NElem</th>\n      <th>NSets</th>\n      <th>NScenarios</th>\n      <th></th>\n      <th></th>\n      <th></th>\n      <th></th>\n      <th></th>\n      <th></th>\n      <th></th>\n      <th></th>\n      <th></th>\n    </tr>\n  </thead>\n  <tbody>\n    <tr>\n      <th rowspan=\"20\" valign=\"top\">10</th>\n      <th rowspan=\"4\" valign=\"top\">3</th>\n      <th>5</th>\n      <td>7.200000</td>\n      <td>7.200000</td>\n      <td>15.926756</td>\n      <td>0.0</td>\n      <td>7.133333</td>\n      <td>0.0</td>\n      <td>0.034532</td>\n      <td>0.0130</td>\n      <td>0.001008</td>\n    </tr>\n    <tr>\n      <th>10</th>\n      <td>7.450000</td>\n      <td>7.450000</td>\n      <td>14.253111</td>\n      <td>0.0</td>\n      <td>7.450000</td>\n      <td>0.0</td>\n      <td>0.206850</td>\n      <td>0.0150</td>\n      <td>0.002005</td>\n    </tr>\n    <tr>\n      <th>20</th>\n      <td>7.950000</td>\n      <td>7.925000</td>\n      <td>17.203056</td>\n      <td>0.0</td>\n      <td>7.873889</td>\n      <td>0.0</td>\n      <td>2.376813</td>\n      <td>0.0125</td>\n      <td>0.004717</td>\n    </tr>\n    <tr>\n      <th>40</th>\n      <td>8.050603</td>\n      <td>8.050603</td>\n      <td>17.458786</td>\n      <td>0.0</td>\n      <td>8.012500</td>\n      <td>0.0</td>\n      <td>26.099716</td>\n      <td>0.0150</td>\n      <td>0.015196</td>\n    </tr>\n    <tr>\n      <th rowspan=\"4\" valign=\"top\">5</th>\n      <th>5</th>\n      <td>6.896800</td>\n      <td>6.700000</td>\n      <td>9.293600</td>\n      <td>0.0</td>\n      <td>6.700000</td>\n      <td>0.0</td>\n      <td>0.055042</td>\n      <td>0.0160</td>\n      <td>0.001000</td>\n    </tr>\n    <tr>\n      <th>10</th>\n      <td>7.400000</td>\n      <td>7.300000</td>\n      <td>8.211867</td>\n      <td>0.0</td>\n      <td>7.200000</td>\n      <td>0.0</td>\n      <td>0.280785</td>\n      <td>0.0210</td>\n      <td>0.002034</td>\n    </tr>\n    <tr>\n      <th>20</th>\n      <td>7.670867</td>\n      <td>7.675000</td>\n      <td>15.392722</td>\n      <td>0.0</td>\n      <td>7.584056</td>\n      <td>0.0</td>\n      <td>3.326906</td>\n      <td>0.0230</td>\n      <td>0.007471</td>\n    </tr>\n    <tr>\n      <th>40</th>\n      <td>7.783300</td>\n      <td>7.783300</td>\n      <td>16.525983</td>\n      <td>0.0</td>\n      <td>7.505533</td>\n      <td>0.0</td>\n      <td>43.575071</td>\n      <td>0.0250</td>\n      <td>0.030518</td>\n    </tr>\n    <tr>\n      <th rowspan=\"4\" valign=\"top\">10</th>\n      <th>5</th>\n      <td>6.790667</td>\n      <td>5.700000</td>\n      <td>7.000000</td>\n      <td>0.0</td>\n      <td>5.561333</td>\n      <td>0.0</td>\n      <td>0.079244</td>\n      <td>0.0325</td>\n      <td>0.001002</td>\n    </tr>\n    <tr>\n      <th>10</th>\n      <td>6.700000</td>\n      <td>6.600000</td>\n      <td>7.258667</td>\n      <td>0.0</td>\n      <td>6.425333</td>\n      <td>0.0</td>\n      <td>0.484657</td>\n      <td>0.0370</td>\n      <td>0.002503</td>\n    </tr>\n    <tr>\n      <th>20</th>\n      <td>7.375000</td>\n      <td>7.051600</td>\n      <td>7.828200</td>\n      <td>0.0</td>\n      <td>6.853200</td>\n      <td>0.0</td>\n      <td>5.236489</td>\n      <td>0.0605</td>\n      <td>0.010521</td>\n    </tr>\n    <tr>\n      <th>40</th>\n      <td>8.591225</td>\n      <td>7.487500</td>\n      <td>7.971367</td>\n      <td>0.0</td>\n      <td>7.212500</td>\n      <td>0.0</td>\n      <td>88.485649</td>\n      <td>0.0890</td>\n      <td>0.042356</td>\n    </tr>\n    <tr>\n      <th rowspan=\"4\" valign=\"top\">15</th>\n      <th>5</th>\n      <td>7.004089</td>\n      <td>5.100000</td>\n      <td>5.900000</td>\n      <td>0.0</td>\n      <td>5.000000</td>\n      <td>0.0</td>\n      <td>0.097976</td>\n      <td>0.0450</td>\n      <td>0.002000</td>\n    </tr>\n    <tr>\n      <th>10</th>\n      <td>7.700000</td>\n      <td>6.466889</td>\n      <td>7.200000</td>\n      <td>0.0</td>\n      <td>6.250000</td>\n      <td>0.0</td>\n      <td>0.633476</td>\n      <td>0.0780</td>\n      <td>0.004006</td>\n    </tr>\n    <tr>\n      <th>20</th>\n      <td>8.491833</td>\n      <td>6.944556</td>\n      <td>7.441833</td>\n      <td>0.0</td>\n      <td>6.748639</td>\n      <td>0.0</td>\n      <td>9.989918</td>\n      <td>0.1520</td>\n      <td>0.015558</td>\n    </tr>\n    <tr>\n      <th>40</th>\n      <td>10.383944</td>\n      <td>7.375000</td>\n      <td>7.881794</td>\n      <td>0.0</td>\n      <td>7.148222</td>\n      <td>0.0</td>\n      <td>124.778257</td>\n      <td>0.3385</td>\n      <td>0.039627</td>\n    </tr>\n    <tr>\n      <th rowspan=\"4\" valign=\"top\">20</th>\n      <th>5</th>\n      <td>6.545600</td>\n      <td>4.600000</td>\n      <td>5.500000</td>\n      <td>0.0</td>\n      <td>4.433600</td>\n      <td>0.0</td>\n      <td>0.120192</td>\n      <td>0.0440</td>\n      <td>0.002001</td>\n    </tr>\n    <tr>\n      <th>10</th>\n      <td>7.487667</td>\n      <td>6.050000</td>\n      <td>6.700000</td>\n      <td>0.0</td>\n      <td>5.950000</td>\n      <td>0.0</td>\n      <td>0.976068</td>\n      <td>0.1085</td>\n      <td>0.004499</td>\n    </tr>\n    <tr>\n      <th>20</th>\n      <td>9.188100</td>\n      <td>6.725000</td>\n      <td>7.316075</td>\n      <td>0.0</td>\n      <td>6.508037</td>\n      <td>0.0</td>\n      <td>12.405256</td>\n      <td>0.2330</td>\n      <td>0.017272</td>\n    </tr>\n    <tr>\n      <th>40</th>\n      <td>10.171694</td>\n      <td>7.248681</td>\n      <td>7.712500</td>\n      <td>0.0</td>\n      <td>7.200000</td>\n      <td>0.0</td>\n      <td>164.330716</td>\n      <td>0.8510</td>\n      <td>0.053504</td>\n    </tr>\n  </tbody>\n</table>\n</div>"
     },
     "execution_count": 102,
     "metadata": {},
     "output_type": "execute_result"
    }
   ],
   "source": [
    "out.groupby(level = ['Type','NElem', 'NSets', 'NScenarios']).median().unstack(level=0)"
   ]
  },
  {
   "cell_type": "code",
   "execution_count": 103,
   "metadata": {
    "id": "RDgOY8QzuFj4",
    "executionInfo": {
     "status": "ok",
     "timestamp": 1675911851583,
     "user_tz": 300,
     "elapsed": 692,
     "user": {
      "displayName": "Ryan Islip",
      "userId": "09447671168486293026"
     }
    },
    "ExecuteTime": {
     "end_time": "2024-12-14T21:58:25.006482800Z",
     "start_time": "2024-12-14T21:58:24.965202900Z"
    }
   },
   "outputs": [],
   "source": [
    "out.to_csv(\"data/APX2023.csv\")"
   ]
  },
  {
   "cell_type": "code",
   "execution_count": 104,
   "metadata": {
    "id": "3XpRrcNIdKtA",
    "executionInfo": {
     "status": "ok",
     "timestamp": 1675911852968,
     "user_tz": 300,
     "elapsed": 170,
     "user": {
      "displayName": "Ryan Islip",
      "userId": "09447671168486293026"
     }
    },
    "ExecuteTime": {
     "end_time": "2024-12-14T21:58:26.489935800Z",
     "start_time": "2024-12-14T21:58:26.444839500Z"
    }
   },
   "outputs": [],
   "source": [
    "Extensive = out[out.index.get_level_values('Type') == 'Extensive'].droplevel(\"Type\")\n",
    "Peleg = out[out.index.get_level_values('Type') == 'Peleg'].droplevel(\"Type\")\n",
    "Carr = out[out.index.get_level_values('Type') == 'Carr'].droplevel(\"Type\")"
   ]
  },
  {
   "cell_type": "code",
   "execution_count": 105,
   "metadata": {
    "executionInfo": {
     "elapsed": 131,
     "status": "ok",
     "timestamp": 1675911857725,
     "user": {
      "displayName": "Ryan Islip",
      "userId": "09447671168486293026"
     },
     "user_tz": 300
    },
    "id": "G1uaVQsMxfLp",
    "ExecuteTime": {
     "end_time": "2024-12-14T21:58:27.112090Z",
     "start_time": "2024-12-14T21:58:27.040206800Z"
    }
   },
   "outputs": [],
   "source": [
    "Peleg_Gap = 100*(Peleg.Objective - Extensive.Objective )/Extensive.Objective\n",
    "Carr_Gap = 100*(Carr.Objective - Extensive.Objective )/Extensive.Objective\n",
    "# Carr_Gap= pd.DataFrame(Carr_Gap).reset_index()\n",
    "# Peleg_Gap = pd.DataFrame(Peleg_Gap).reset_index()"
   ]
  },
  {
   "cell_type": "code",
   "execution_count": 106,
   "metadata": {
    "colab": {
     "base_uri": "https://localhost:8080/",
     "height": 206
    },
    "executionInfo": {
     "elapsed": 192,
     "status": "ok",
     "timestamp": 1675913083167,
     "user": {
      "displayName": "Ryan Islip",
      "userId": "09447671168486293026"
     },
     "user_tz": 300
    },
    "id": "Xz6fVzP2z8Mw",
    "outputId": "6893373f-9e3b-4409-b156-dc5c180797bd",
    "ExecuteTime": {
     "end_time": "2024-12-14T21:58:27.879738600Z",
     "start_time": "2024-12-14T21:58:27.822834500Z"
    }
   },
   "outputs": [
    {
     "data": {
      "text/plain": "NSets                     3                         5                 \\\n                       Peleg   Carr et al.       Peleg   Carr et al.   \nNElem NScenarios                                                       \n10    5           121.204938  4.758099e-14   40.079254  4.867644e-14   \n      10           82.775857 -1.284300e-13    4.292857 -1.109354e-13   \n      20          126.566747 -2.689778e-13   91.081151 -2.465248e-13   \n      40          112.262196  5.337423e-13  110.569897  4.669871e-13   \n\nNSets                    10                       15                     20  \\\n                      Peleg   Carr et al.      Peleg Carr et al.      Peleg   \nNElem NScenarios                                                              \n10    5           12.466323  1.590909e+01  14.285714   47.105419  14.039409   \n      10           9.058132 -2.330941e-14   9.143385   17.768544   4.659634   \n      20           7.462063 -1.839532e-13   7.012978   22.824706   9.594307   \n      40           6.220482  1.285278e+01   6.064636   40.089621   4.710232   \n\nNSets                         \n                 Carr et al.  \nNElem NScenarios              \n10    5            59.100000  \n      10           18.638065  \n      20           33.433540  \n      40           41.950387  ",
      "text/html": "<div>\n<style scoped>\n    .dataframe tbody tr th:only-of-type {\n        vertical-align: middle;\n    }\n\n    .dataframe tbody tr th {\n        vertical-align: top;\n    }\n\n    .dataframe thead tr th {\n        text-align: left;\n    }\n\n    .dataframe thead tr:last-of-type th {\n        text-align: right;\n    }\n</style>\n<table border=\"1\" class=\"dataframe\">\n  <thead>\n    <tr>\n      <th></th>\n      <th>NSets</th>\n      <th colspan=\"2\" halign=\"left\">3</th>\n      <th colspan=\"2\" halign=\"left\">5</th>\n      <th colspan=\"2\" halign=\"left\">10</th>\n      <th colspan=\"2\" halign=\"left\">15</th>\n      <th colspan=\"2\" halign=\"left\">20</th>\n    </tr>\n    <tr>\n      <th></th>\n      <th></th>\n      <th>Peleg</th>\n      <th>Carr et al.</th>\n      <th>Peleg</th>\n      <th>Carr et al.</th>\n      <th>Peleg</th>\n      <th>Carr et al.</th>\n      <th>Peleg</th>\n      <th>Carr et al.</th>\n      <th>Peleg</th>\n      <th>Carr et al.</th>\n    </tr>\n    <tr>\n      <th>NElem</th>\n      <th>NScenarios</th>\n      <th></th>\n      <th></th>\n      <th></th>\n      <th></th>\n      <th></th>\n      <th></th>\n      <th></th>\n      <th></th>\n      <th></th>\n      <th></th>\n    </tr>\n  </thead>\n  <tbody>\n    <tr>\n      <th rowspan=\"4\" valign=\"top\">10</th>\n      <th>5</th>\n      <td>121.204938</td>\n      <td>4.758099e-14</td>\n      <td>40.079254</td>\n      <td>4.867644e-14</td>\n      <td>12.466323</td>\n      <td>1.590909e+01</td>\n      <td>14.285714</td>\n      <td>47.105419</td>\n      <td>14.039409</td>\n      <td>59.100000</td>\n    </tr>\n    <tr>\n      <th>10</th>\n      <td>82.775857</td>\n      <td>-1.284300e-13</td>\n      <td>4.292857</td>\n      <td>-1.109354e-13</td>\n      <td>9.058132</td>\n      <td>-2.330941e-14</td>\n      <td>9.143385</td>\n      <td>17.768544</td>\n      <td>4.659634</td>\n      <td>18.638065</td>\n    </tr>\n    <tr>\n      <th>20</th>\n      <td>126.566747</td>\n      <td>-2.689778e-13</td>\n      <td>91.081151</td>\n      <td>-2.465248e-13</td>\n      <td>7.462063</td>\n      <td>-1.839532e-13</td>\n      <td>7.012978</td>\n      <td>22.824706</td>\n      <td>9.594307</td>\n      <td>33.433540</td>\n    </tr>\n    <tr>\n      <th>40</th>\n      <td>112.262196</td>\n      <td>5.337423e-13</td>\n      <td>110.569897</td>\n      <td>4.669871e-13</td>\n      <td>6.220482</td>\n      <td>1.285278e+01</td>\n      <td>6.064636</td>\n      <td>40.089621</td>\n      <td>4.710232</td>\n      <td>41.950387</td>\n    </tr>\n  </tbody>\n</table>\n</div>"
     },
     "execution_count": 106,
     "metadata": {},
     "output_type": "execute_result"
    }
   ],
   "source": [
    "peleg_median = pd.DataFrame(Peleg_Gap.groupby(level = ['NElem', 'NSets', 'NScenarios']).median())\n",
    "peleg_median.columns = [\"Peleg\"]\n",
    "carr_median = pd.DataFrame(Carr_Gap.groupby(level = ['NElem', 'NSets', 'NScenarios']).median())\n",
    "carr_median.columns = [\"Carr et al.\"]\n",
    "pd.concat([peleg_median, carr_median], axis = 1).stack().unstack(1).unstack(-1)"
   ]
  },
  {
   "cell_type": "code",
   "source": [
    "peleg_median = pd.DataFrame(Peleg_Gap.groupby(level = ['NElem', 'NSets', 'NScenarios']).quantile(0.9))\n",
    "peleg_median.columns = [\"Peleg\"]\n",
    "carr_median = pd.DataFrame(Carr_Gap.groupby(level = ['NElem', 'NSets', 'NScenarios']).quantile(0.9))\n",
    "carr_median.columns = [\"Carr et al.\"]\n",
    "pd.concat([peleg_median, carr_median], axis = 1).stack().unstack(1).unstack(-1)"
   ],
   "metadata": {
    "colab": {
     "base_uri": "https://localhost:8080/",
     "height": 206
    },
    "id": "qrIijCPZKRub",
    "executionInfo": {
     "status": "ok",
     "timestamp": 1675913083371,
     "user_tz": 300,
     "elapsed": 207,
     "user": {
      "displayName": "Ryan Islip",
      "userId": "09447671168486293026"
     }
    },
    "outputId": "34de03ab-9b58-4e89-e472-4a0a598bb9da",
    "ExecuteTime": {
     "end_time": "2024-12-14T21:58:29.491343200Z",
     "start_time": "2024-12-14T21:58:29.437486300Z"
    }
   },
   "execution_count": 107,
   "outputs": [
    {
     "data": {
      "text/plain": "NSets                     3                         5                 \\\n                       Peleg   Carr et al.       Peleg   Carr et al.   \nNElem NScenarios                                                       \n10    5           241.287619  6.167906e-14  119.325146  1.802105e+01   \n      10          238.265079 -8.526880e-14  100.018528  1.035348e+01   \n      20          222.025142 -1.359899e-13  163.468732  6.410256e-02   \n      40          164.303637  6.167981e-13  206.975550  5.732887e-13   \n\nNSets                    10                     15                     20  \\\n                      Peleg Carr et al.      Peleg Carr et al.      Peleg   \nNElem NScenarios                                                            \n10    5           49.226471   44.117157  31.969697   80.274004  46.024209   \n      10          17.971905   42.598345  25.264565   37.428048  25.141509   \n      20          19.735409   26.781232  11.604085   44.284497  17.974594   \n      40          17.853548   31.747898  10.851170   58.301111  11.753827   \n\nNSets                         \n                 Carr et al.  \nNElem NScenarios              \n10    5           108.750171  \n      10           53.845633  \n      20           65.585546  \n      40           62.547419  ",
      "text/html": "<div>\n<style scoped>\n    .dataframe tbody tr th:only-of-type {\n        vertical-align: middle;\n    }\n\n    .dataframe tbody tr th {\n        vertical-align: top;\n    }\n\n    .dataframe thead tr th {\n        text-align: left;\n    }\n\n    .dataframe thead tr:last-of-type th {\n        text-align: right;\n    }\n</style>\n<table border=\"1\" class=\"dataframe\">\n  <thead>\n    <tr>\n      <th></th>\n      <th>NSets</th>\n      <th colspan=\"2\" halign=\"left\">3</th>\n      <th colspan=\"2\" halign=\"left\">5</th>\n      <th colspan=\"2\" halign=\"left\">10</th>\n      <th colspan=\"2\" halign=\"left\">15</th>\n      <th colspan=\"2\" halign=\"left\">20</th>\n    </tr>\n    <tr>\n      <th></th>\n      <th></th>\n      <th>Peleg</th>\n      <th>Carr et al.</th>\n      <th>Peleg</th>\n      <th>Carr et al.</th>\n      <th>Peleg</th>\n      <th>Carr et al.</th>\n      <th>Peleg</th>\n      <th>Carr et al.</th>\n      <th>Peleg</th>\n      <th>Carr et al.</th>\n    </tr>\n    <tr>\n      <th>NElem</th>\n      <th>NScenarios</th>\n      <th></th>\n      <th></th>\n      <th></th>\n      <th></th>\n      <th></th>\n      <th></th>\n      <th></th>\n      <th></th>\n      <th></th>\n      <th></th>\n    </tr>\n  </thead>\n  <tbody>\n    <tr>\n      <th rowspan=\"4\" valign=\"top\">10</th>\n      <th>5</th>\n      <td>241.287619</td>\n      <td>6.167906e-14</td>\n      <td>119.325146</td>\n      <td>1.802105e+01</td>\n      <td>49.226471</td>\n      <td>44.117157</td>\n      <td>31.969697</td>\n      <td>80.274004</td>\n      <td>46.024209</td>\n      <td>108.750171</td>\n    </tr>\n    <tr>\n      <th>10</th>\n      <td>238.265079</td>\n      <td>-8.526880e-14</td>\n      <td>100.018528</td>\n      <td>1.035348e+01</td>\n      <td>17.971905</td>\n      <td>42.598345</td>\n      <td>25.264565</td>\n      <td>37.428048</td>\n      <td>25.141509</td>\n      <td>53.845633</td>\n    </tr>\n    <tr>\n      <th>20</th>\n      <td>222.025142</td>\n      <td>-1.359899e-13</td>\n      <td>163.468732</td>\n      <td>6.410256e-02</td>\n      <td>19.735409</td>\n      <td>26.781232</td>\n      <td>11.604085</td>\n      <td>44.284497</td>\n      <td>17.974594</td>\n      <td>65.585546</td>\n    </tr>\n    <tr>\n      <th>40</th>\n      <td>164.303637</td>\n      <td>6.167981e-13</td>\n      <td>206.975550</td>\n      <td>5.732887e-13</td>\n      <td>17.853548</td>\n      <td>31.747898</td>\n      <td>10.851170</td>\n      <td>58.301111</td>\n      <td>11.753827</td>\n      <td>62.547419</td>\n    </tr>\n  </tbody>\n</table>\n</div>"
     },
     "execution_count": 107,
     "metadata": {},
     "output_type": "execute_result"
    }
   ]
  },
  {
   "cell_type": "code",
   "execution_count": 108,
   "metadata": {
    "id": "T5ZPbILP6lG1",
    "colab": {
     "base_uri": "https://localhost:8080/",
     "height": 206
    },
    "executionInfo": {
     "status": "ok",
     "timestamp": 1675913083869,
     "user_tz": 300,
     "elapsed": 170,
     "user": {
      "displayName": "Ryan Islip",
      "userId": "09447671168486293026"
     }
    },
    "outputId": "a1aafe53-7a17-4b78-d187-a75a4c5f85e6",
    "ExecuteTime": {
     "end_time": "2024-12-14T21:58:29.760238200Z",
     "start_time": "2024-12-14T21:58:29.712683400Z"
    }
   },
   "outputs": [
    {
     "data": {
      "text/plain": "NSets                   3                                 5               \\\n                     Peleg Carr et al. Exact Solve     Peleg Carr et al.   \nNElem NScenarios                                                           \n10    5           0.001008    0.034532      0.0130  0.001000    0.055042   \n      10          0.002005    0.206850      0.0150  0.002034    0.280785   \n      20          0.004717    2.376813      0.0125  0.007471    3.326906   \n      40          0.015196   26.099716      0.0150  0.030518   43.575071   \n\nNSets                               10                                15  \\\n                 Exact Solve     Peleg Carr et al. Exact Solve     Peleg   \nNElem NScenarios                                                           \n10    5                0.016  0.001002    0.079244      0.0325  0.002000   \n      10               0.021  0.002503    0.484657      0.0370  0.004006   \n      20               0.023  0.010521    5.236489      0.0605  0.015558   \n      40               0.025  0.042356   88.485649      0.0890  0.039627   \n\nNSets                                           20                          \n                 Carr et al. Exact Solve     Peleg Carr et al. Exact Solve  \nNElem NScenarios                                                            \n10    5             0.097976      0.0450  0.002001    0.120192      0.0440  \n      10            0.633476      0.0780  0.004499    0.976068      0.1085  \n      20            9.989918      0.1520  0.017272   12.405256      0.2330  \n      40          124.778257      0.3385  0.053504  164.330716      0.8510  ",
      "text/html": "<div>\n<style scoped>\n    .dataframe tbody tr th:only-of-type {\n        vertical-align: middle;\n    }\n\n    .dataframe tbody tr th {\n        vertical-align: top;\n    }\n\n    .dataframe thead tr th {\n        text-align: left;\n    }\n\n    .dataframe thead tr:last-of-type th {\n        text-align: right;\n    }\n</style>\n<table border=\"1\" class=\"dataframe\">\n  <thead>\n    <tr>\n      <th></th>\n      <th>NSets</th>\n      <th colspan=\"3\" halign=\"left\">3</th>\n      <th colspan=\"3\" halign=\"left\">5</th>\n      <th colspan=\"3\" halign=\"left\">10</th>\n      <th colspan=\"3\" halign=\"left\">15</th>\n      <th colspan=\"3\" halign=\"left\">20</th>\n    </tr>\n    <tr>\n      <th></th>\n      <th></th>\n      <th>Peleg</th>\n      <th>Carr et al.</th>\n      <th>Exact Solve</th>\n      <th>Peleg</th>\n      <th>Carr et al.</th>\n      <th>Exact Solve</th>\n      <th>Peleg</th>\n      <th>Carr et al.</th>\n      <th>Exact Solve</th>\n      <th>Peleg</th>\n      <th>Carr et al.</th>\n      <th>Exact Solve</th>\n      <th>Peleg</th>\n      <th>Carr et al.</th>\n      <th>Exact Solve</th>\n    </tr>\n    <tr>\n      <th>NElem</th>\n      <th>NScenarios</th>\n      <th></th>\n      <th></th>\n      <th></th>\n      <th></th>\n      <th></th>\n      <th></th>\n      <th></th>\n      <th></th>\n      <th></th>\n      <th></th>\n      <th></th>\n      <th></th>\n      <th></th>\n      <th></th>\n      <th></th>\n    </tr>\n  </thead>\n  <tbody>\n    <tr>\n      <th rowspan=\"4\" valign=\"top\">10</th>\n      <th>5</th>\n      <td>0.001008</td>\n      <td>0.034532</td>\n      <td>0.0130</td>\n      <td>0.001000</td>\n      <td>0.055042</td>\n      <td>0.016</td>\n      <td>0.001002</td>\n      <td>0.079244</td>\n      <td>0.0325</td>\n      <td>0.002000</td>\n      <td>0.097976</td>\n      <td>0.0450</td>\n      <td>0.002001</td>\n      <td>0.120192</td>\n      <td>0.0440</td>\n    </tr>\n    <tr>\n      <th>10</th>\n      <td>0.002005</td>\n      <td>0.206850</td>\n      <td>0.0150</td>\n      <td>0.002034</td>\n      <td>0.280785</td>\n      <td>0.021</td>\n      <td>0.002503</td>\n      <td>0.484657</td>\n      <td>0.0370</td>\n      <td>0.004006</td>\n      <td>0.633476</td>\n      <td>0.0780</td>\n      <td>0.004499</td>\n      <td>0.976068</td>\n      <td>0.1085</td>\n    </tr>\n    <tr>\n      <th>20</th>\n      <td>0.004717</td>\n      <td>2.376813</td>\n      <td>0.0125</td>\n      <td>0.007471</td>\n      <td>3.326906</td>\n      <td>0.023</td>\n      <td>0.010521</td>\n      <td>5.236489</td>\n      <td>0.0605</td>\n      <td>0.015558</td>\n      <td>9.989918</td>\n      <td>0.1520</td>\n      <td>0.017272</td>\n      <td>12.405256</td>\n      <td>0.2330</td>\n    </tr>\n    <tr>\n      <th>40</th>\n      <td>0.015196</td>\n      <td>26.099716</td>\n      <td>0.0150</td>\n      <td>0.030518</td>\n      <td>43.575071</td>\n      <td>0.025</td>\n      <td>0.042356</td>\n      <td>88.485649</td>\n      <td>0.0890</td>\n      <td>0.039627</td>\n      <td>124.778257</td>\n      <td>0.3385</td>\n      <td>0.053504</td>\n      <td>164.330716</td>\n      <td>0.8510</td>\n    </tr>\n  </tbody>\n</table>\n</div>"
     },
     "execution_count": 108,
     "metadata": {},
     "output_type": "execute_result"
    }
   ],
   "source": [
    "peleg_median = pd.DataFrame(Peleg.Time.groupby(level = ['NElem', 'NSets', 'NScenarios']).median())\n",
    "peleg_median.columns = [\"Peleg\"]\n",
    "carr_median = pd.DataFrame(Carr.Time.groupby(level = ['NElem', 'NSets', 'NScenarios']).median())\n",
    "carr_median.columns = [\"Carr et al.\"]\n",
    "extensive_median = pd.DataFrame(Extensive.Time.groupby(level = ['NElem', 'NSets', 'NScenarios']).median())\n",
    "extensive_median.columns = [\"Exact Solve\"]\n",
    "pd.concat([peleg_median, carr_median, extensive_median], axis = 1).stack().unstack(1).unstack(-1)"
   ]
  },
  {
   "cell_type": "code",
   "source": [
    "peleg_median = pd.DataFrame(Peleg.Time.groupby(level = ['NElem', 'NSets', 'NScenarios']).quantile(0.9))\n",
    "peleg_median.columns = [\"Peleg\"]\n",
    "carr_median = pd.DataFrame(Carr.Time.groupby(level = ['NElem', 'NSets', 'NScenarios']).quantile(0.9))\n",
    "carr_median.columns = [\"Carr et al.\"]\n",
    "extensive_median = pd.DataFrame(Extensive.Time.groupby(level = ['NElem', 'NSets', 'NScenarios']).quantile(0.9))\n",
    "extensive_median.columns = [\"Exact Solve\"]\n",
    "pd.concat([peleg_median, carr_median, extensive_median], axis = 1).stack().unstack(1).unstack(-1)"
   ],
   "metadata": {
    "colab": {
     "base_uri": "https://localhost:8080/",
     "height": 206
    },
    "id": "uvZqDugqLleg",
    "executionInfo": {
     "status": "ok",
     "timestamp": 1675913084254,
     "user_tz": 300,
     "elapsed": 208,
     "user": {
      "displayName": "Ryan Islip",
      "userId": "09447671168486293026"
     }
    },
    "outputId": "d204d1a6-9228-44b1-9a0d-b3cff44c100f",
    "ExecuteTime": {
     "end_time": "2024-12-14T21:58:30.344726500Z",
     "start_time": "2024-12-14T21:58:30.278189700Z"
    }
   },
   "execution_count": 109,
   "outputs": [
    {
     "data": {
      "text/plain": "NSets                   3                                 5               \\\n                     Peleg Carr et al. Exact Solve     Peleg Carr et al.   \nNElem NScenarios                                                           \n10    5           0.001043    0.062595      0.0290  0.001179    0.089772   \n      10          0.004633    0.484735      0.0266  0.003234    0.677841   \n      20          0.015571    3.912767      0.0280  0.015722    7.650963   \n      40          0.031523   70.577061      0.0320  0.054008  116.234512   \n\nNSets                               10                                15  \\\n                 Exact Solve     Peleg Carr et al. Exact Solve     Peleg   \nNElem NScenarios                                                           \n10    5               0.0326  0.005172    0.156986      0.0573  0.006576   \n      10              0.0407  0.005108    1.038953      0.0726  0.019674   \n      20              0.0470  0.024352   14.248387      0.0975  0.043618   \n      40              0.0470  0.068076  214.323147      0.1742  0.066647   \n\nNSets                                           20                          \n                 Carr et al. Exact Solve     Peleg Carr et al. Exact Solve  \nNElem NScenarios                                                            \n10    5             0.179078      0.0722  0.015643    0.236576      0.1020  \n      10            1.982722      0.1312  0.013294    1.863795      0.1801  \n      20           20.155869      0.2510  0.031426   30.378698      0.4849  \n      40          272.447934      0.6069  0.083657  344.403637      1.1596  ",
      "text/html": "<div>\n<style scoped>\n    .dataframe tbody tr th:only-of-type {\n        vertical-align: middle;\n    }\n\n    .dataframe tbody tr th {\n        vertical-align: top;\n    }\n\n    .dataframe thead tr th {\n        text-align: left;\n    }\n\n    .dataframe thead tr:last-of-type th {\n        text-align: right;\n    }\n</style>\n<table border=\"1\" class=\"dataframe\">\n  <thead>\n    <tr>\n      <th></th>\n      <th>NSets</th>\n      <th colspan=\"3\" halign=\"left\">3</th>\n      <th colspan=\"3\" halign=\"left\">5</th>\n      <th colspan=\"3\" halign=\"left\">10</th>\n      <th colspan=\"3\" halign=\"left\">15</th>\n      <th colspan=\"3\" halign=\"left\">20</th>\n    </tr>\n    <tr>\n      <th></th>\n      <th></th>\n      <th>Peleg</th>\n      <th>Carr et al.</th>\n      <th>Exact Solve</th>\n      <th>Peleg</th>\n      <th>Carr et al.</th>\n      <th>Exact Solve</th>\n      <th>Peleg</th>\n      <th>Carr et al.</th>\n      <th>Exact Solve</th>\n      <th>Peleg</th>\n      <th>Carr et al.</th>\n      <th>Exact Solve</th>\n      <th>Peleg</th>\n      <th>Carr et al.</th>\n      <th>Exact Solve</th>\n    </tr>\n    <tr>\n      <th>NElem</th>\n      <th>NScenarios</th>\n      <th></th>\n      <th></th>\n      <th></th>\n      <th></th>\n      <th></th>\n      <th></th>\n      <th></th>\n      <th></th>\n      <th></th>\n      <th></th>\n      <th></th>\n      <th></th>\n      <th></th>\n      <th></th>\n      <th></th>\n    </tr>\n  </thead>\n  <tbody>\n    <tr>\n      <th rowspan=\"4\" valign=\"top\">10</th>\n      <th>5</th>\n      <td>0.001043</td>\n      <td>0.062595</td>\n      <td>0.0290</td>\n      <td>0.001179</td>\n      <td>0.089772</td>\n      <td>0.0326</td>\n      <td>0.005172</td>\n      <td>0.156986</td>\n      <td>0.0573</td>\n      <td>0.006576</td>\n      <td>0.179078</td>\n      <td>0.0722</td>\n      <td>0.015643</td>\n      <td>0.236576</td>\n      <td>0.1020</td>\n    </tr>\n    <tr>\n      <th>10</th>\n      <td>0.004633</td>\n      <td>0.484735</td>\n      <td>0.0266</td>\n      <td>0.003234</td>\n      <td>0.677841</td>\n      <td>0.0407</td>\n      <td>0.005108</td>\n      <td>1.038953</td>\n      <td>0.0726</td>\n      <td>0.019674</td>\n      <td>1.982722</td>\n      <td>0.1312</td>\n      <td>0.013294</td>\n      <td>1.863795</td>\n      <td>0.1801</td>\n    </tr>\n    <tr>\n      <th>20</th>\n      <td>0.015571</td>\n      <td>3.912767</td>\n      <td>0.0280</td>\n      <td>0.015722</td>\n      <td>7.650963</td>\n      <td>0.0470</td>\n      <td>0.024352</td>\n      <td>14.248387</td>\n      <td>0.0975</td>\n      <td>0.043618</td>\n      <td>20.155869</td>\n      <td>0.2510</td>\n      <td>0.031426</td>\n      <td>30.378698</td>\n      <td>0.4849</td>\n    </tr>\n    <tr>\n      <th>40</th>\n      <td>0.031523</td>\n      <td>70.577061</td>\n      <td>0.0320</td>\n      <td>0.054008</td>\n      <td>116.234512</td>\n      <td>0.0470</td>\n      <td>0.068076</td>\n      <td>214.323147</td>\n      <td>0.1742</td>\n      <td>0.066647</td>\n      <td>272.447934</td>\n      <td>0.6069</td>\n      <td>0.083657</td>\n      <td>344.403637</td>\n      <td>1.1596</td>\n    </tr>\n  </tbody>\n</table>\n</div>"
     },
     "execution_count": 109,
     "metadata": {},
     "output_type": "execute_result"
    }
   ]
  },
  {
   "cell_type": "code",
   "source": [],
   "metadata": {
    "id": "hoY4_ytDL5_e"
   },
   "execution_count": null,
   "outputs": []
  }
 ],
 "metadata": {
  "colab": {
   "provenance": [
    {
     "file_id": "1PKPq3BDpWz9gobo1M4C7WnBoiuzCfJTA",
     "timestamp": 1647030381247
    },
    {
     "file_id": "1ddLfKySMHUOi0qrH24AlcM0TZ3anAL3e",
     "timestamp": 1646506420685
    }
   ],
   "authorship_tag": "ABX9TyM1vk98uaCCfXBRuD/yjVpx"
  },
  "kernelspec": {
   "name": "python3",
   "language": "python",
   "display_name": "Python 3 (ipykernel)"
  },
  "language_info": {
   "name": "python"
  }
 },
 "nbformat": 4,
 "nbformat_minor": 0
}
